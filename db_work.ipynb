{
 "cells": [
  {
   "cell_type": "code",
   "execution_count": 2,
   "metadata": {},
   "outputs": [],
   "source": [
    "from tinydb import TinyDB, Query\n",
    "\n",
    "\n",
    "db = TinyDB('local_db.json')\n",
    "trainers_table = db.table('trainers')\n",
    "places_table = db.table('places')\n",
    "users_table = db.table('users')"
   ]
  },
  {
   "cell_type": "code",
   "execution_count": 6,
   "metadata": {},
   "outputs": [
    {
     "data": {
      "text/plain": [
       "1"
      ]
     },
     "execution_count": 6,
     "metadata": {},
     "output_type": "execute_result"
    }
   ],
   "source": [
    "# trainers_table.insert({'id': 1, 'tg_nick': '@Kazancev_Danil'})\n",
    "# users_table.insert({'id': 1, 'tg_nick': '@Kazancev_Danil'})"
   ]
  },
  {
   "cell_type": "code",
   "execution_count": 8,
   "metadata": {},
   "outputs": [
    {
     "data": {
      "text/plain": [
       "2"
      ]
     },
     "execution_count": 8,
     "metadata": {},
     "output_type": "execute_result"
    }
   ],
   "source": [
    "trainers_table._next_id"
   ]
  },
  {
   "cell_type": "code",
   "execution_count": null,
   "metadata": {},
   "outputs": [],
   "source": [
    "        # self.id = id\n",
    "        # self.name = name\n",
    "        # self.latitude = latitude\n",
    "        # self.longitude = longitude\n",
    "        # self.location: object = geopy.Point(latitude, longitude)"
   ]
  },
  {
   "cell_type": "code",
   "execution_count": null,
   "metadata": {},
   "outputs": [],
   "source": [
    "places_table.insert({''}"
   ]
  },
  {
   "cell_type": "code",
   "execution_count": 19,
   "metadata": {},
   "outputs": [
    {
     "name": "stdout",
     "output_type": "stream",
     "text": [
      "Current Date: 2023-10-26 20:44:59.164496\n"
     ]
    }
   ],
   "source": [
    "from datetime import datetime, timedelta\n",
    "\n",
    "# Get the current date\n",
    "current_date = datetime.now()\n",
    "\n",
    "# Print the current date\n",
    "print(\"Current Date:\", current_date)\n",
    "\n",
    "# Calculate and print dates for the next 4 weeks\n",
    "for i in range(1, 10):\n",
    "    next_day = current_date + timedelta(days=i)\n",
    "    # print(f\"Week {i}: {next_week.strftime('%Y-%m-%d')}\")\n",
    "    # next_week.weekday()\n",
    "\n",
    "# You can customize the date format using strftime() method as per your requirements.\n"
   ]
  },
  {
   "cell_type": "code",
   "execution_count": 20,
   "metadata": {},
   "outputs": [
    {
     "data": {
      "text/plain": [
       "datetime.datetime(2023, 11, 4, 20, 44, 59, 164496)"
      ]
     },
     "execution_count": 20,
     "metadata": {},
     "output_type": "execute_result"
    }
   ],
   "source": [
    "datetime.strptime(str(next_day), '%Y-%m-%d %H:%M:%S.%f')"
   ]
  },
  {
   "cell_type": "code",
   "execution_count": 14,
   "metadata": {},
   "outputs": [
    {
     "ename": "AttributeError",
     "evalue": "'datetime.datetime' object attribute 'time' is read-only",
     "output_type": "error",
     "traceback": [
      "\u001b[0;31m---------------------------------------------------------------------------\u001b[0m",
      "\u001b[0;31mAttributeError\u001b[0m                            Traceback (most recent call last)",
      "\u001b[1;32m/Users/danilkazancev/projects/pet_projects/queue_bot/db_work.ipynb Cell 7\u001b[0m in \u001b[0;36m<module>\u001b[0;34m\u001b[0m\n\u001b[0;32m----> <a href='vscode-notebook-cell:/Users/danilkazancev/projects/pet_projects/queue_bot/db_work.ipynb#X15sZmlsZQ%3D%3D?line=0'>1</a>\u001b[0m next_day\u001b[39m.\u001b[39mtime \u001b[39m=\u001b[39m datetime\u001b[39m.\u001b[39mstrptime(\u001b[39m\"\u001b[39m\u001b[39m10:00\u001b[39m\u001b[39m\"\u001b[39m, \u001b[39m'\u001b[39m\u001b[39m%\u001b[39m\u001b[39mH:\u001b[39m\u001b[39m%\u001b[39m\u001b[39mM\u001b[39m\u001b[39m'\u001b[39m)\u001b[39m.\u001b[39mtime()\n",
      "\u001b[0;31mAttributeError\u001b[0m: 'datetime.datetime' object attribute 'time' is read-only"
     ]
    }
   ],
   "source": [
    "next_day.time = datetime.strptime(\"10:00\", '%H:%M').time()"
   ]
  },
  {
   "cell_type": "code",
   "execution_count": 10,
   "metadata": {},
   "outputs": [],
   "source": [
    "#next day set new time\n",
    "next_day = datetime.combine(next_day.date(), datetime.strptime(\"10:00\", '%H:%M').time())"
   ]
  },
  {
   "cell_type": "code",
   "execution_count": 24,
   "metadata": {},
   "outputs": [
    {
     "data": {
      "text/plain": [
       "datetime.datetime(2023, 10, 26, 0, 0)"
      ]
     },
     "execution_count": 24,
     "metadata": {},
     "output_type": "execute_result"
    }
   ],
   "source": [
    "date_format=\"%d-%m-%Y\"\n",
    "datetime.strptime(\"26-10-2023\", date_format)"
   ]
  },
  {
   "cell_type": "code",
   "execution_count": 6,
   "metadata": {},
   "outputs": [
    {
     "ename": "AttributeError",
     "evalue": "'method_descriptor' object has no attribute 'fromisoformat'",
     "output_type": "error",
     "traceback": [
      "\u001b[0;31m---------------------------------------------------------------------------\u001b[0m",
      "\u001b[0;31mAttributeError\u001b[0m                            Traceback (most recent call last)",
      "\u001b[1;32m/Users/danilkazancev/projects/pet_projects/queue_bot/db_work.ipynb Cell 7\u001b[0m in \u001b[0;36m<module>\u001b[0;34m\u001b[0m\n\u001b[0;32m----> <a href='vscode-notebook-cell:/Users/danilkazancev/projects/pet_projects/queue_bot/db_work.ipynb#X14sZmlsZQ%3D%3D?line=0'>1</a>\u001b[0m next_day\u001b[39m.\u001b[39mtime \u001b[39m=\u001b[39m datetime\u001b[39m.\u001b[39mtime(datetime\u001b[39m.\u001b[39;49mtime\u001b[39m.\u001b[39;49mfromisoformat(\u001b[39m'\u001b[39m\u001b[39m10:00:00\u001b[39m\u001b[39m'\u001b[39m))\n",
      "\u001b[0;31mAttributeError\u001b[0m: 'method_descriptor' object has no attribute 'fromisoformat'"
     ]
    }
   ],
   "source": [
    "# \"10:00\" to datetime\"\n",
    "from datetime import datetime\n",
    "\n",
    "\n",
    "def str_to_time(time_str: str):\n",
    "    return datetime.strptime(time_str, '%H:%M')"
   ]
  },
  {
   "cell_type": "code",
   "execution_count": 33,
   "metadata": {},
   "outputs": [
    {
     "data": {
      "text/plain": [
       "'Суббота(04.11.2023)'"
      ]
     },
     "execution_count": 33,
     "metadata": {},
     "output_type": "execute_result"
    }
   ],
   "source": [
    "weeks_days = [\"Понедельник\", \"Вторник\", \"Среда\", \"Четверг\", \"Пятница\", \"Суббота\", \"Воскресенье\"]\n",
    "\n",
    "f\"{weeks_days[next_day.weekday()]}({'0' + str(next_day.day) if next_day.day < 10 else next_day.day}.{next_day.month}.{next_day.year})\""
   ]
  },
  {
   "cell_type": "code",
   "execution_count": 34,
   "metadata": {},
   "outputs": [],
   "source": [
    "\n",
    "formatted_day = f\"{weeks_days[next_day.weekday()]}({next_day.day:02d}.{next_day.month}.{next_day.year})\"\n"
   ]
  },
  {
   "cell_type": "code",
   "execution_count": 1,
   "metadata": {},
   "outputs": [
    {
     "ename": "NameError",
     "evalue": "name 'next_day' is not defined",
     "output_type": "error",
     "traceback": [
      "\u001b[0;31m---------------------------------------------------------------------------\u001b[0m",
      "\u001b[0;31mNameError\u001b[0m                                 Traceback (most recent call last)",
      "\u001b[1;32m/Users/danilkazancev/projects/pet_projects/queue_bot/db_work.ipynb Cell 9\u001b[0m in \u001b[0;36m<module>\u001b[0;34m\u001b[0m\n\u001b[0;32m----> <a href='vscode-notebook-cell:/Users/danilkazancev/projects/pet_projects/queue_bot/db_work.ipynb#X11sZmlsZQ%3D%3D?line=0'>1</a>\u001b[0m next_day\u001b[39m.\u001b[39mtime\n",
      "\u001b[0;31mNameError\u001b[0m: name 'next_day' is not defined"
     ]
    }
   ],
   "source": []
  },
  {
   "cell_type": "code",
   "execution_count": 37,
   "metadata": {},
   "outputs": [
    {
     "name": "stdout",
     "output_type": "stream",
     "text": [
      "{'apple': [1, 2, 3], 'banana': [1, 2, 3], 'cherry': [1, 2, 3]}\n"
     ]
    }
   ],
   "source": [
    "keys = [\"apple\", \"banana\", \"cherry\"]\n",
    "value = [1,2,3]  # This will be the common value for all keys\n",
    "\n",
    "result_dict = dict.fromkeys(keys, value)\n",
    "\n",
    "print(result_dict)\n"
   ]
  },
  {
   "cell_type": "code",
   "execution_count": null,
   "metadata": {},
   "outputs": [],
   "source": []
  }
 ],
 "metadata": {
  "kernelspec": {
   "display_name": "work",
   "language": "python",
   "name": "python3"
  },
  "language_info": {
   "codemirror_mode": {
    "name": "ipython",
    "version": 3
   },
   "file_extension": ".py",
   "mimetype": "text/x-python",
   "name": "python",
   "nbconvert_exporter": "python",
   "pygments_lexer": "ipython3",
   "version": "3.9.12"
  },
  "orig_nbformat": 4
 },
 "nbformat": 4,
 "nbformat_minor": 2
}
